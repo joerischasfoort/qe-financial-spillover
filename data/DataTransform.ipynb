{
 "cells": [
  {
   "cell_type": "code",
   "execution_count": 35,
   "metadata": {},
   "outputs": [],
   "source": [
    " "
   ]
  },
  {
   "cell_type": "code",
   "execution_count": 36,
   "metadata": {},
   "outputs": [],
   "source": [
    "df_long.rename(columns={'value':'asset'}, inplace=True)\n",
    " "
   ]
  },
  {
   "cell_type": "code",
   "execution_count": 39,
   "metadata": {},
   "outputs": [],
   "source": [
    "df_dombonds = df[df.asset=='funds[0].exp.returns[portfolios[0]]'] \n",
    "df_dombonds.to_csv('domestic_bonds.csv')df_nozero = df[df.QE!=0]\n",
    "df.to_csv('yields.csv')\n",
    "df_nozero.to_csv('nozero.csv')\n",
    "dombonds =df_dombonds.rename(columns={'ret*1e4*250':'yield_change'}, inplace=True)\n",
    "dombonds = df_dombonds.rename(columns={'yield_change':'delta_yield'}, inplace=True) "
   ]
  },
  {
   "cell_type": "code",
   "execution_count": 33,
   "metadata": {},
   "outputs": [],
   "source": []
  },
  {
   "cell_type": "code",
   "execution_count": 42,
   "metadata": {},
   "outputs": [],
   "source": []
  },
  {
   "cell_type": "code",
   "execution_count": 47,
   "metadata": {},
   "outputs": [],
   "source": []
  },
  {
   "cell_type": "code",
   "execution_count": 57,
   "metadata": {},
   "outputs": [
    {
     "ename": "SyntaxError",
     "evalue": "invalid syntax (<ipython-input-57-62c159837421>, line 5)",
     "output_type": "error",
     "traceback": [
      "\u001b[0;36m  File \u001b[0;32m\"<ipython-input-57-62c159837421>\"\u001b[0;36m, line \u001b[0;32m5\u001b[0m\n\u001b[0;31m    print df.head()df_dombonds['delta']= df_dombonds['delta_yield']/df_dombonds['QE']\u001b[0m\n\u001b[0m                             ^\u001b[0m\n\u001b[0;31mSyntaxError\u001b[0m\u001b[0;31m:\u001b[0m invalid syntax\n"
     ]
    }
   ],
   "source": [
    "  "
   ]
  },
  {
   "cell_type": "code",
   "execution_count": 58,
   "metadata": {},
   "outputs": [
    {
     "name": "stdout",
     "output_type": "stream",
     "text": [
      "['QE' 'asset' 'seed' 'time' 'val']\n",
      "asset         funds[0].exp.returns[currencies[1]]  \\\n",
      "QE seed time                                        \n",
      "0  2    0                                     0.0   \n",
      "        1                                     0.0   \n",
      "        2                                     0.0   \n",
      "        3                                     0.0   \n",
      "        4                                     0.0   \n",
      "\n",
      "asset         funds[0].exp.returns[portfolios[0]]  \\\n",
      "QE seed time                                        \n",
      "0  2    0                                     0.0   \n",
      "        1                                     0.0   \n",
      "        2                                     0.0   \n",
      "        3                                     0.0   \n",
      "        4                                     0.0   \n",
      "\n",
      "asset         funds[0].exp.returns[portfolios[1]]  \\\n",
      "QE seed time                                        \n",
      "0  2    0                                     0.0   \n",
      "        1                                     0.0   \n",
      "        2                                     0.0   \n",
      "        3                                     0.0   \n",
      "        4                                     0.0   \n",
      "\n",
      "asset         funds[3].exp.returns[currencies[0]]  \\\n",
      "QE seed time                                        \n",
      "0  2    0                                     0.0   \n",
      "        1                                     0.0   \n",
      "        2                                     0.0   \n",
      "        3                                     0.0   \n",
      "        4                                     0.0   \n",
      "\n",
      "asset         funds[3].exp.returns[portfolios[2]]  \\\n",
      "QE seed time                                        \n",
      "0  2    0                                     0.0   \n",
      "        1                                     0.0   \n",
      "        2                                     0.0   \n",
      "        3                                     0.0   \n",
      "        4                                     0.0   \n",
      "\n",
      "asset         funds[3].exp.returns[portfolios[3]]  \n",
      "QE seed time                                       \n",
      "0  2    0                                     0.0  \n",
      "        1                                     0.0  \n",
      "        2                                     0.0  \n",
      "        3                                     0.0  \n",
      "        4                                     0.0  \n"
     ]
    }
   ],
   "source": [
    "df1 = pd.read_csv('test6.csv')\n",
    "df = df1.iloc[:, 2:]\n",
    "print df.columns.values\n",
    "df = df.pivot_table(columns=['asset'], index=['QE', 'seed', 'time'], values='val')\n",
    "\n",
    " \n",
    "\n"
   ]
  },
  {
   "cell_type": "code",
   "execution_count": null,
   "metadata": {},
   "outputs": [],
   "source": []
  },
  {
   "cell_type": "code",
   "execution_count": 61,
   "metadata": {},
   "outputs": [],
   "source": [
    "data.reset_index(level=['A'], inplace=True)\n",
    "df.to_csv('test9.csv')"
   ]
  },
  {
   "cell_type": "code",
   "execution_count": 49,
   "metadata": {},
   "outputs": [],
   "source": [
    "import pandas as pd\n",
    "import numpy as np\n",
    "\n",
    "df = pd.read_csv('summary_ls_PER_QE.csv')\n",
    "print df.columns.values\n",
    "print df['funds0expreturnsportfolios0'].mean()  "
   ]
  },
  {
   "cell_type": "code",
   "execution_count": null,
   "metadata": {},
   "outputs": [],
   "source": [
    "print df['dom_bond_per_qe'].mean() *100,\n",
    "print df['dom_bond_per_qe'].std()    *100\n",
    "print df['dom_bond_per_qe'].quantile(0.05) *100\n",
    "\n",
    "print df['dom_bond_per_qe'].quantile(0.95) *100\n",
    "\n"
   ]
  },
  {
   "cell_type": "code",
   "execution_count": null,
   "metadata": {},
   "outputs": [],
   "source": [
    "print df['dom_CURR_per_qe'].mean() *100,\n",
    "print df['dom_CURR_per_qe'].std()    *100\n",
    "print df['dom_CURR_per_qe'].quantile(0.05) *100\n",
    "\n",
    "print df['dom_CURR_per_qe'].quantile(0.95) *100"
   ]
  },
  {
   "cell_type": "code",
   "execution_count": null,
   "metadata": {},
   "outputs": [],
   "source": [
    "print df['foreign_bond_per_qe'].mean() *100,\n",
    "print df['foreign_bond_per_qe'].std()    *100\n",
    "print df['foreign_bond_per_qe'].quantile(0.05) *100\n",
    "\n",
    "print df['foreign_bond_per_qe'].quantile(0.95) *100"
   ]
  },
  {
   "cell_type": "code",
   "execution_count": null,
   "metadata": {},
   "outputs": [],
   "source": [
    "print df['foreign_eq_per_qe'].mean() *100,\n",
    "print df['foreign_eq_per_qe'].std()    *100\n",
    "print df['foreign_eq_per_qe'].quantile(0.05) *100\n",
    "\n",
    "print df['foreign_eq_per_qe'].quantile(0.95) *100"
   ]
  },
  {
   "cell_type": "code",
   "execution_count": null,
   "metadata": {},
   "outputs": [],
   "source": [
    "print df['FOR_CURR_per_qe'].mean() *100,\n",
    "print df['FOR_CURR_per_qe'].std()    *100\n",
    "print df['FOR_CURR_per_qe'].quantile(0.05) *100\n",
    "\n",
    "print df['FOR_CURR_per_qe'].quantile(0.95) *100"
   ]
  },
  {
   "cell_type": "code",
   "execution_count": 35,
   "metadata": {},
   "outputs": [
    {
     "name": "stdout",
     "output_type": "stream",
     "text": [
      "0.288300514822 0.327675467461\n",
      "-0.0849999953\n",
      "0.82187494\n"
     ]
    }
   ],
   "source": [
    "print df['dom_bondPRICE_per_qe'].mean() *100,\n",
    "print df['dom_bondPRICE_per_qe'].std()    *100\n",
    "print df['dom_bondPRICE_per_qe'].quantile(0.05) *100\n",
    "\n",
    "print df['dom_bondPRICE_per_qe'].quantile(0.95) *100"
   ]
  },
  {
   "cell_type": "code",
   "execution_count": 42,
   "metadata": {},
   "outputs": [
    {
     "name": "stdout",
     "output_type": "stream",
     "text": [
      "0.243532472763 0.194903842458\n",
      "-0.0131990954\n",
      "0.493221933\n"
     ]
    }
   ],
   "source": [
    "print df['dom_eqPRICE_per_qe'].mean() *100,\n",
    "print df['dom_eqPRICE_per_qe'].std()    *100\n",
    "print df['dom_eqPRICE_per_qe'].quantile(0.05) *100\n",
    "\n",
    "print df['dom_eqPRICE_per_qe'].quantile(0.95) *100"
   ]
  },
  {
   "cell_type": "code",
   "execution_count": 43,
   "metadata": {},
   "outputs": [
    {
     "name": "stdout",
     "output_type": "stream",
     "text": [
      "0.0192194133686 0.0218487791057\n",
      "-0.005665330155\n",
      "0.0548532394\n"
     ]
    }
   ],
   "source": [
    "print df['EX_per_qe'].mean() *100,\n",
    "print df['EX_per_qe'].std()    *100\n",
    "print df['EX_per_qe'].quantile(0.05) *100\n",
    "\n",
    "print df['EX_per_qe'].quantile(0.95) *100"
   ]
  },
  {
   "cell_type": "code",
   "execution_count": null,
   "metadata": {},
   "outputs": [],
   "source": []
  }
 ],
 "metadata": {
  "kernelspec": {
   "display_name": "Python 2",
   "language": "python",
   "name": "python2"
  },
  "language_info": {
   "codemirror_mode": {
    "name": "ipython",
    "version": 2
   },
   "file_extension": ".py",
   "mimetype": "text/x-python",
   "name": "python",
   "nbconvert_exporter": "python",
   "pygments_lexer": "ipython2",
   "version": "2.7.15"
  }
 },
 "nbformat": 4,
 "nbformat_minor": 2
}
